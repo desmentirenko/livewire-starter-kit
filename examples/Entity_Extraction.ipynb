{
  "cells": [
    {
      "cell_type": "markdown",
      "metadata": {
        "id": "KLHiTPXNTf2a"
      },
      "source": [
        "##### Copyright 2025 Google LLC."
      ]
    },
    {
      "cell_type": "code",
      "execution_count": null,
      "metadata": {
        "cellView": "form",
        "id": "oTuT5CsaTigz"
      },
      "outputs": [],
      "source": [
        "# @title Licensed under the Apache License, Version 2.0 (the \"License\");\n",
        "# you may not use this file except in compliance with the License.\n",
        "# You may obtain a copy of the License at\n",
        "#\n",
        "# https://www.apache.org/licenses/LICENSE-2.0\n",
        "#\n",
        "# Unless required by applicable law or agreed to in writing, software\n",
        "# distributed under the License is distributed on an \"AS IS\" BASIS,\n",
        "# WITHOUT WARRANTIES OR CONDITIONS OF ANY KIND, either express or implied.\n",
        "# See the License for the specific language governing permissions and\n",
        "# limitations under the License."
      ]
    },
    {
      "cell_type": "markdown",
      "metadata": {
        "id": "HUP7eCxvtblC"
      },
      "source": [
        "# Gemini API: Entity extraction\n",
        "\n",
        "Use Gemini API to speed up some of your tasks, such as searching through text to extract needed information. Entity extraction with a Gemini model is a simple query, and you can ask it to retrieve its answer in the form that you prefer.\n",
        "\n",
        "This notebook shows how to extract entities into a list."
      ]
    },
    {
      "cell_type": "markdown",
      "metadata": {
        "id": "b04e5041d418"
      },
      "source": [
        "<a target=\"_blank\" href=\"https://colab.research.google.com/github/google-gemini/cookbook/blob/main/examples/Entity_Extraction.ipynb\"><img src=\"https://colab.research.google.com/assets/colab-badge.svg\" height=30/></a>"
      ]
    },
    {
      "cell_type": "markdown",
      "metadata": {
        "id": "lu51_vs315hS"
      },
      "source": [
        "## Setup"
      ]
    },
    {
      "cell_type": "code",
      "execution_count": 1,
      "metadata": {
        "id": "esUtyazO2TU5",
        "colab": {
          "base_uri": "https://localhost:8080/"
        },
        "outputId": "094f1862-2e0c-4382-c9c6-f71ee10f828c"
      },
      "outputs": [
        {
          "output_type": "stream",
          "name": "stdout",
          "text": [
            "\u001b[?25l   \u001b[90m━━━━━━━━━━━━━━━━━━━━━━━━━━━━━━━━━━━━━━━━\u001b[0m \u001b[32m0.0/159.7 kB\u001b[0m \u001b[31m?\u001b[0m eta \u001b[36m-:--:--\u001b[0m\r\u001b[2K   \u001b[90m━━━━━━━━━━━━━━━━━━━━━━━━━━━━━━━━━━━━━━━━\u001b[0m \u001b[32m159.7/159.7 kB\u001b[0m \u001b[31m5.8 MB/s\u001b[0m eta \u001b[36m0:00:00\u001b[0m\n",
            "\u001b[?25h"
          ]
        }
      ],
      "source": [
        "%pip install -U -q \"google-genai>=1.0.0\""
      ]
    },
    {
      "cell_type": "markdown",
      "metadata": {
        "id": "6Z8xjVQX2fuB"
      },
      "source": [
        "## Configure your API key\n",
        "\n",
        "To run the following cell, your API key must be stored it in a Colab Secret named `GOOGLE_API_KEY`. If you don't already have an API key, or you're not sure how to create a Colab Secret, see [Authentication](https://github.com/google-gemini/cookbook/blob/main/quickstarts/Authentication.ipynb) for an example."
      ]
    },
    {
      "cell_type": "code",
      "execution_count": 2,
      "metadata": {
        "id": "uwbcbjun2gb3"
      },
      "outputs": [],
      "source": [
        "from google import genai\n",
        "from google.colab import userdata\n",
        "\n",
        "GOOGLE_API_KEY=userdata.get('GOOGLE_API_KEY')\n",
        "client = genai.Client(api_key=GOOGLE_API_KEY)"
      ]
    },
    {
      "cell_type": "markdown",
      "metadata": {
        "id": "MdqFCJr7KG_d"
      },
      "source": [
        "# Select the model\n",
        "\n",
        "Additionally, select the model you want to use from the available options below:"
      ]
    },
    {
      "cell_type": "code",
      "execution_count": 6,
      "metadata": {
        "id": "5oc1zmBMKFdQ"
      },
      "outputs": [],
      "source": [
        "MODEL_ID = \"gemini-2.0-flash\"  # @param [\"gemini-2.0-flash-lite\", \"gemini-2.0-flash\", \"gemini-2.5-flash-preview-04-17\",\"gemini-2.5-pro-exp-03-25\"] {\"allow-input\": true, \"isTemplate\": true}"
      ]
    },
    {
      "cell_type": "code",
      "source": [],
      "metadata": {
        "id": "cfxB6TY0311C"
      },
      "execution_count": null,
      "outputs": []
    },
    {
      "source": [
        "!pip install --upgrade google-api-python-client google-auth-httplib2 google-auth-oauthlib gspread"
      ],
      "cell_type": "code",
      "metadata": {
        "id": "098q3wUa32nq",
        "outputId": "943aebf2-2e7e-4e39-95c3-6223a80022db",
        "colab": {
          "base_uri": "https://localhost:8080/"
        }
      },
      "execution_count": 19,
      "outputs": [
        {
          "output_type": "stream",
          "name": "stdout",
          "text": [
            "Requirement already satisfied: google-api-python-client in /usr/local/lib/python3.11/dist-packages (2.164.0)\n",
            "Collecting google-api-python-client\n",
            "  Downloading google_api_python_client-2.167.0-py2.py3-none-any.whl.metadata (6.7 kB)\n",
            "Requirement already satisfied: google-auth-httplib2 in /usr/local/lib/python3.11/dist-packages (0.2.0)\n",
            "Requirement already satisfied: google-auth-oauthlib in /usr/local/lib/python3.11/dist-packages (1.2.1)\n",
            "Collecting google-auth-oauthlib\n",
            "  Downloading google_auth_oauthlib-1.2.2-py3-none-any.whl.metadata (2.7 kB)\n",
            "Requirement already satisfied: gspread in /usr/local/lib/python3.11/dist-packages (6.2.0)\n",
            "Requirement already satisfied: httplib2<1.0.0,>=0.19.0 in /usr/local/lib/python3.11/dist-packages (from google-api-python-client) (0.22.0)\n",
            "Requirement already satisfied: google-auth!=2.24.0,!=2.25.0,<3.0.0,>=1.32.0 in /usr/local/lib/python3.11/dist-packages (from google-api-python-client) (2.38.0)\n",
            "Requirement already satisfied: google-api-core!=2.0.*,!=2.1.*,!=2.2.*,!=2.3.0,<3.0.0,>=1.31.5 in /usr/local/lib/python3.11/dist-packages (from google-api-python-client) (2.24.2)\n",
            "Requirement already satisfied: uritemplate<5,>=3.0.1 in /usr/local/lib/python3.11/dist-packages (from google-api-python-client) (4.1.1)\n",
            "Requirement already satisfied: requests-oauthlib>=0.7.0 in /usr/local/lib/python3.11/dist-packages (from google-auth-oauthlib) (2.0.0)\n",
            "Requirement already satisfied: googleapis-common-protos<2.0.0,>=1.56.2 in /usr/local/lib/python3.11/dist-packages (from google-api-core!=2.0.*,!=2.1.*,!=2.2.*,!=2.3.0,<3.0.0,>=1.31.5->google-api-python-client) (1.70.0)\n",
            "Requirement already satisfied: protobuf!=3.20.0,!=3.20.1,!=4.21.0,!=4.21.1,!=4.21.2,!=4.21.3,!=4.21.4,!=4.21.5,<7.0.0,>=3.19.5 in /usr/local/lib/python3.11/dist-packages (from google-api-core!=2.0.*,!=2.1.*,!=2.2.*,!=2.3.0,<3.0.0,>=1.31.5->google-api-python-client) (5.29.4)\n",
            "Requirement already satisfied: proto-plus<2.0.0,>=1.22.3 in /usr/local/lib/python3.11/dist-packages (from google-api-core!=2.0.*,!=2.1.*,!=2.2.*,!=2.3.0,<3.0.0,>=1.31.5->google-api-python-client) (1.26.1)\n",
            "Requirement already satisfied: requests<3.0.0,>=2.18.0 in /usr/local/lib/python3.11/dist-packages (from google-api-core!=2.0.*,!=2.1.*,!=2.2.*,!=2.3.0,<3.0.0,>=1.31.5->google-api-python-client) (2.32.3)\n",
            "Requirement already satisfied: cachetools<6.0,>=2.0.0 in /usr/local/lib/python3.11/dist-packages (from google-auth!=2.24.0,!=2.25.0,<3.0.0,>=1.32.0->google-api-python-client) (5.5.2)\n",
            "Requirement already satisfied: pyasn1-modules>=0.2.1 in /usr/local/lib/python3.11/dist-packages (from google-auth!=2.24.0,!=2.25.0,<3.0.0,>=1.32.0->google-api-python-client) (0.4.2)\n",
            "Requirement already satisfied: rsa<5,>=3.1.4 in /usr/local/lib/python3.11/dist-packages (from google-auth!=2.24.0,!=2.25.0,<3.0.0,>=1.32.0->google-api-python-client) (4.9.1)\n",
            "Requirement already satisfied: pyparsing!=3.0.0,!=3.0.1,!=3.0.2,!=3.0.3,<4,>=2.4.2 in /usr/local/lib/python3.11/dist-packages (from httplib2<1.0.0,>=0.19.0->google-api-python-client) (3.2.3)\n",
            "Requirement already satisfied: oauthlib>=3.0.0 in /usr/local/lib/python3.11/dist-packages (from requests-oauthlib>=0.7.0->google-auth-oauthlib) (3.2.2)\n",
            "Requirement already satisfied: pyasn1<0.7.0,>=0.6.1 in /usr/local/lib/python3.11/dist-packages (from pyasn1-modules>=0.2.1->google-auth!=2.24.0,!=2.25.0,<3.0.0,>=1.32.0->google-api-python-client) (0.6.1)\n",
            "Requirement already satisfied: charset-normalizer<4,>=2 in /usr/local/lib/python3.11/dist-packages (from requests<3.0.0,>=2.18.0->google-api-core!=2.0.*,!=2.1.*,!=2.2.*,!=2.3.0,<3.0.0,>=1.31.5->google-api-python-client) (3.4.1)\n",
            "Requirement already satisfied: idna<4,>=2.5 in /usr/local/lib/python3.11/dist-packages (from requests<3.0.0,>=2.18.0->google-api-core!=2.0.*,!=2.1.*,!=2.2.*,!=2.3.0,<3.0.0,>=1.31.5->google-api-python-client) (3.10)\n",
            "Requirement already satisfied: urllib3<3,>=1.21.1 in /usr/local/lib/python3.11/dist-packages (from requests<3.0.0,>=2.18.0->google-api-core!=2.0.*,!=2.1.*,!=2.2.*,!=2.3.0,<3.0.0,>=1.31.5->google-api-python-client) (2.3.0)\n",
            "Requirement already satisfied: certifi>=2017.4.17 in /usr/local/lib/python3.11/dist-packages (from requests<3.0.0,>=2.18.0->google-api-core!=2.0.*,!=2.1.*,!=2.2.*,!=2.3.0,<3.0.0,>=1.31.5->google-api-python-client) (2025.1.31)\n",
            "Downloading google_api_python_client-2.167.0-py2.py3-none-any.whl (13.2 MB)\n",
            "\u001b[2K   \u001b[90m━━━━━━━━━━━━━━━━━━━━━━━━━━━━━━━━━━━━━━━━\u001b[0m \u001b[32m13.2/13.2 MB\u001b[0m \u001b[31m62.7 MB/s\u001b[0m eta \u001b[36m0:00:00\u001b[0m\n",
            "\u001b[?25hDownloading google_auth_oauthlib-1.2.2-py3-none-any.whl (19 kB)\n",
            "Installing collected packages: google-auth-oauthlib, google-api-python-client\n",
            "  Attempting uninstall: google-auth-oauthlib\n",
            "    Found existing installation: google-auth-oauthlib 1.2.1\n",
            "    Uninstalling google-auth-oauthlib-1.2.1:\n",
            "      Successfully uninstalled google-auth-oauthlib-1.2.1\n",
            "  Attempting uninstall: google-api-python-client\n",
            "    Found existing installation: google-api-python-client 2.164.0\n",
            "    Uninstalling google-api-python-client-2.164.0:\n",
            "      Successfully uninstalled google-api-python-client-2.164.0\n",
            "Successfully installed google-api-python-client-2.167.0 google-auth-oauthlib-1.2.2\n"
          ]
        }
      ]
    },
    {
      "source": [
        "from google.colab import auth\n",
        "auth.authenticate_user()\n",
        "\n",
        "import gspread\n",
        "from google.auth import default\n",
        "creds, _ = default()\n",
        "gc = gspread.authorize(creds)"
      ],
      "cell_type": "code",
      "metadata": {
        "id": "lJarXyIo36PV"
      },
      "execution_count": 20,
      "outputs": []
    },
    {
      "source": [
        "sh = gc.open_by_key('1dYMnP5IhTAsOqX-lZyOSIsn1U2FZO1yYOb6LHWhcY3c') # replace with your spreadsheet key\n",
        "worksheet = sh.worksheet('Sheet3') #replace with your sheet name"
      ],
      "cell_type": "code",
      "metadata": {
        "id": "R2koqVE84Ghc"
      },
      "execution_count": 22,
      "outputs": []
    },
    {
      "source": [
        "cell_value = worksheet.acell('H15').value # extract cell H3 for the header\n",
        "print(cell_value)"
      ],
      "cell_type": "code",
      "metadata": {
        "id": "AzT_dOoq4ZFA",
        "outputId": "b76eadf7-2f44-41af-9117-442b313beba9",
        "colab": {
          "base_uri": "https://localhost:8080/"
        }
      },
      "execution_count": 25,
      "outputs": [
        {
          "output_type": "stream",
          "name": "stdout",
          "text": [
            "[Aplausos] [Música] [Aplausos] en las últimas dos semanas Se ha producido un aumento de la acción principalmente a través de campamentos de solidaridad en los campus entre la diáspora Palestina y sus comunidades de apoyo en el extranjero inspiradas por el ejemplo que los estudiantes de la Universidad de Columbia dieron con su campamento de solidaridad con gaza las organizaciones universitarias de todo el mundo se están sumando en menos de dos semanas hemos visto como los campamentos de solidaridad se han extendido rápidamente por todo Estados Unidos y otros países aliados con la entidad sionista los campamentos de solidaridad con gaza deben socavar su separación mediante el empleo de estrategias exitosas para su lucha a saber la unidad de los campus con el fin de escalar de simples demandas de desinversión a una realidad verdaderamente anticolonial que puede imponerse a las instituciones occidentales los campamentos de solidaridad se han formado a partir de la conciencia de personas justas y libres que rechazan ser obligadas a contribuir al genocidio en curso de los palestinos en gaza esta posición converge naturalmente con la del pueblo palestino desde el comienzo de la agresión sionista contra gaza el pueblo palestino a través de su resistencia ha declarado en numerosas ocasiones que si bien las instituciones internacionales son las culpables de encubrir las atrocidades que se están cometiendo en gaza es deber del Pueblo libre levantarse en rechazo de ese status quo y actuar Con urgencia para poner fin al genocidio bueno Esto lo decía recientemente la resistant news Network señalando las claves de una protesta estudiantil contra El sionismo que se está extendiendo en todo el mundo hoy hablamos de ello bienvenidas y bienvenidos a la base la [Música] base por fin el movimiento estudiantil ha hecho acto de presencia en Estados Unidos y también en otros muchos países del Mundo aquí en España también los estudiantes de valencia han sido los primeros en encerrarse estamos convencidos de que muy pronto habrá muchos campus en España y en toda Europa en los que los estudiantes actuarán en Solidaridad con Palestina y para rechazar el genocidio Irene zugasti qué nos vas a contar Bueno pues vamos a ver cómo arrancaron esas protestas en el epicentro que fue la universidad de Columbia en Nueva York y cómo se han extendido por Estados Unidos por el mundo y acaban de llegar aquí al Estado español Manu Leví Qué dice la prensa Bueno vamos a ver qué están diciendo los medios vamos a analizar unas cuantas piezas de la bbc y vamos a leer un documento muy relevante que cre creo que sirve para detectar Bueno pues todos esos Marcos y todos esos términos que utiliza la prensa para criminalizar este tipo de protestas hoy vamos a contar con una de las periodistas que más ha seguido la movilización estudiantil en los Estados Unidos desde España es Olga Rodríguez especialista también en Oriente próximo arrancamos chavi la base de datos adelante compañera Buenas tardes Pablo Pues venga hoy vamos a empezar en acción estamos en un momento histórico para desafiar al sionismo el pasado fin de semana Angela Davis se dirigía así a los estudiantes y a las estudiantes del Campus de Denver en el estado de Colorado Y decía Quiero enfatizar la profesora lo que esto significa para la historia sois Vosotros los actores políticos que podéis cambiarla Pero David no se refería únicamente a los estudiantes que estaban allí en el campus de Denver Porque desde el 19 de abril los estudiantes estadounidenses han arrancado una serie de protestas por los Campus de todo el país en lo que muchos llaman ya la primavera antisionista o incluso el Vietnam de gaza las protestas comenzaron como ocurrió también por cierto hace 56 años contra la guerra de Vietnam con la resistencia activa de los estudiantes y trabajadores del Campus eh A que sus universidades colaboras como están haciendo financiando activamente el genocidio llegando a acuerdos con empresas que participan de él y a medida que estas marchas crecían en número también lo hacía la represión de las mismas sí Esta noche mismo ha habido disturbios en la universidad de Richmond en Virginia en la de suley City en Utah o en Columbia Nueva York donde mientras preparamos justo Este programa los estudiantes acaban de ocupar el Hilton Hall que es uno de los edificios del Campus las ocupaciones se están reproduciendo de hecho en varios campus americanos a lo largo del día de hoy y desde que iniciaron las protestas y las acampadas en los campus ya van más de 900 estudiantes que han sido detenidas el primer día de protesta en la universidad de de George Washington por ejemplo hubo policía Armada que se subieron a los techos de los edificios cercanos a la universidad y apuntaron a los estudiantes en Indiana se colocaron también francotiradores eh Durante los primeros días de protesta y en Columbia se plantaron las unidades de contraterrorismo de la policía de Nueva a petición del gobierno local en la universidad de Texas en Austin el despliegue policial y la desproporción y la violencia y las detenciones ha dado la vuelta al mundo bueno y el profesorado mi gremio Qué está haciendo Bueno pues el papel del profesorado muestra también la división no que existe en los campus y que es un reflejo de ese propio ecosistema de las universidades norteamericanas por ejemplo la presidenta de Columbia permitió la entrada de la policía Armada en el campus y ahora por hacerlo está afrontando una crisis de legitimidad de la que igual pues no no sale indemne y Y si hace unos días desalojaba un campamento pues es Mira esta noche Tiene mil estudiantes ocupando directamente un edificio también hay una minoría una minoría hay que decir de docentes que están denunciando e incluso delatando a los estudiantes manifestantes Pero lo importante son los otros los cientos de docentes y de trabajadores y trabajadoras de los campus que se están uniendo a la protesta En el caso de Columbia por ejemplo que como hemos dicho es el epicentro de la protesta ayer mismo los docentes formaron una cadena humana para proteger las acampadas y para evitar los arrestos de los estudiantes de hecho ha habido dos profesoras detenidas en la universidad de emoryi en Atlanta Y 200 docentes han firmado una carta contra el titular de Texas en Austin por haber puesto en peligro a los manifestantes convocando a la brigada antidisturbios que los dispersaron a caballo y estos gestos de solidaridad no son poca cosa porque los despidos a docentes que se han mostrado partidarios de la causa Palestina está siendo una constante en todos los campos en todos los Campus de todo Estados Unidos Claro que como señalaba uno de los docentes en Columbia mientras a ellos les desp y luchan por ser readmitido destruidas y allí Pues no hay dond volver claro Bueno pues a los estudiantes también les está saliendo cara la valentía de protestar a 53 estudiantes que participaban en los campamentos les cancelaron la vivienda subsidiada en los campus la que tienen becada y en algunos casos Como por ejemplo el Warner College les daban apenas 15 minutos para sacar sus pertenencias de los apartamentos y echarlos de allí en la universidad de George Washington también cuando salieron de arresto se encontraron con que no tenían de dormir porque habían sacado sus cosas de los apartamentos muchos de hecho han quedado en una situación de vulnerabilidad porque dependen de esas becas o de esos programas de los que hoyan sido expulsados macartismo universitario va y al fin y al cabo estamos hablando en muchos casos de universidades que pertenecen a la prestigiosa evb leag como Columbia jail o Harvard y en otros muchos de universidades directamente dependientes de la financiación privada normal que rectores consejeros y presidencias de los campus estén muy nerviosos estos días algunos de los llamados de donors los donantes han amenazado con cortar de raí las donaciones millonarias que reciben las universidades de estos fondos privados y Qué es una Universidad Americana sin subs donors Pues precisamente para deslegitimar las protestas estos donors no y las élites universitarias los medios pro israelíes y las autoridades norteamericanas están tirando del argumentario habitual que luego veremos con Manu se acusa el estudiantado de antisemita de proam o de terrorismo Incluso el colectivo students for Justice sin palestine y jewish voice for Peace eh De hecho que han protagonizado las protestas más sonadas en Estados Unidos contra el genocidio han sido estos días directamente señaladas como proxis de Irán Y Mike Johnson que es un diputado republicano se plantó de hecho la biblioteca de Columbia al pasado miércoles y les dijo a los estudiantes parad este sin sentido estáis hablando por boca de los ayatolás iraníes netanyahu decía también hace unos días que los campus norteamericanos eran comparables a la Alemania de los años 30 y Donald Trump que ha Tom tomado una línea de abierta hostilidad en plena campaña precampaña electoral ha Comparado las protestas con las marchas ultraderechistas de Charlotte sville en Virginia en 2017 afirmando que estas las estudiantiles son incluso peores Pero como vimos la también la semana pasada cuando analizábamos la represión en Alemania en el congreso prop palestino las peligrosísimos actividades que se están desarrollando en las protestas universitarias consisten en por ejemplo actos debates acciones de protesta para denunciar el genocidio que izan el rol del lobby militar y armamentístico en las universidades y donde están Bueno pues construyendo un discurso político que además está atravesado Pues por esa denuncia del colonialismo y del supremacismo de Estados Unidos Pues los estudiantes allí celebran asambleas acciones artísticas hacen talleres por ejemplo Pues de dque que es una marcha típica Palestina cursos de árabe o reciben visitas de Pues de activistas por ejemplo una veterana de las protestas contra la guerra de Vietnam Beth mey acudió a Columbia hace poco a recordarles la importancia que tuvo este movimiento para parar la guerra de Vietnam hace 50 años bet mey que estáis viendo nos lo podéis ver en la imagen decía que En 1968 no podíamos permitirnos que la universidad colaboras en el campus con un cint Tang que se llamaba el Instituto para el análisis de la defensa que bombardeaba con na Palm al pueblo de Vietnam desde entonces Y hasta estos días no se habían repetido protestas estudiantiles de este Calibre cabe recordar que en 1970 654 campus participaron en la huelga y 700 se utilizaron contra la propagación de la guerra en Camboya y la masacre estudiantil en Ken State las protestas en las universidades estadounidenses Siempre han tenido un papel significativo en el movimiento contra la guerra en este país eso también pasó durante la guerra de Vietnam como estamos diciendo y que como sabemos pues tuvo lugar entre 1955 y 1975 en aquella ocasión desde 1973 se creó la War resisters League que era un comité de acción que empezó activarse incluso antes del desembarco del primer soldado estadounidense en suelo vietnamita y hasta el final de la guerra los campus universitarios también se convirtieron en centros de activismo contra la guerra el estudiantado se organizó en sentadas en huelgas y en otras formas de protesta Como por ejemplo quemar cartillas de reclutamiento o la resistencia fiscal como medida de presión para expresar pues su oposición a la participación de Estados Unidos en la guerra organizaron manifestaciones pacíficas por ejemplo destaca la que tuvo lugar el 24 de abril de 1971 y la que marcharon más de medio millón de en Washington DC bueno aquellas protestas estudiantiles calificaron aquella guerra aquella invasión como Moral e imperialista y no Encontraron justificada la intervención estadounidense por la supuesta amenaza del comunismo y su avance imparable Por lo cual se centraron en denunciar la devastación que sufría el sudeste asiático se opusieron al reclutamiento militar en los campus y al que se llevaba a cabo a través del proyecto de lotería del sistema de servicio selectivo También conocido como El reclutamiento forzoso del Draft y se manifestaron por la creciente cantidad de bajas estadounidenses uno de los incidentes más destacados fue lo comentábamos antes la masacre de la universidad Estatal de Kent era mayo de 1970 y allí la guardia Nacional de Ohio disparó sobre los manifestantes y mató a cuatro estudiantes desarmados durante una de esas protestas y otros nueve además resultaron heridos se convocó una huelga estudiantil por todo el país que se secundó por más de 4 millones de estudiantes en más de 450 universidades institutos escuelas y se convirtió en el primer y el mayor paro nacional estudiantil en la historia de los Estados Unidos este fue uno de los detonantes que provocó una mayor indignación a nivel nacional y que amplificó la oposición a la guerra a otros sectores de la población estadounidense Y aunque estas protestas per s no lograron detener la guerra de Vietnam Pues por sí solas sí que desempeñaron un papel fundamental clave en la formación de una opinión pública y en el cambio de la política estadounidense hacia el conflicto contribuyeron de hecho a La retirada gradual de las tropas estadounidenses de Vietnam y al eventual fin de la Guerra el hecho es que volviendo al presente el efecto contagio de estas protestas ya es una realidad verdad el sábado pasado en la universidad de Melbourne en Australia publicó un mensaje que en instagram que decía en el otro lado del mundo nosotros la universidad de Melbourne por Palestina expresamos nuestra plena e inquebrantable solidaridad con las valientes acciones de Columbia justicia para Palestina y invitaban a sus compañeras y compañeros A que llevaran la que filla durante las graduaciones en el Instituto Tecnológico de Massachusets el me famoso los estudiantes y trabajadores han instalado un campamento de científicos contra el genocidio afirman que el me ha recibido más de 11 millones de dólares en financiación de investigación del Ministerio de defensa israelí desde 2015 y en Berlín una acampada resistió durante dos semanas frente al rag hasta que fue desalojada el pasado viernes y ojo con Francia porque en Francia la cosa también se está poniendo calentita la policía ha entrado hace un par de noches en París a expulsar violentamente a quienes participaban de la acampada de solidaridad en la sorbona mientras que la la universidad de la facultad de sanspo en París los estudiantes bloquearon el viernes el acceso eh en Solidaridad con Palestina y pese a la represión policial hoy hoy mismo se mantienen las protestas en varios campus franceses y ello todo a pesar de que Valery pés que es la presidenta de la región de IL de Fran es ministra ha dicho en Twitter que va a suspender la financiación a siens poo hasta que y cito literalmente la seguridad y la serenidad sean restablecidas en el campus una minoría de radicales dice la exministra apenan al odio antisemita instrumentalizado por la Fran inumis la Fran insum que ha sido quien fue a proteger a los estudiantes de las agresiones policiales y pecres insiste en que estos estudiantes no pueden dictar la ley a la comunidad educativa francesa bueno continuación en ese mismo tweet esta señora que ha cortado la financiación a una de las universidades más importantes de Francia dice que apela al derecho a la libertad del debate en los campus franceses conforme a los valores universales del humanismo que son el corazón del pacto republicano toma ya bueno y por aquí qué nos vamos a animar aquí en las españas a hacer algo bueno pues parece que sí que sí que la cosa por aquí también empieza a moverse ayer se inauguraba la acampada de la Universidad de valencia que inicia una pernocta indefinida hasta que frene hasta que cese el genocidio es la primera experiencia de este tipo en el estado español y comenzó como no puede ser otra forma en la Facultad de filosofía hoy de hecho ya esta mañana pedí se trasladaban a los jardines para acampar en el exterior según su Twitter y se continúa sumando gente a la iniciativa según están informando también en su canal de Telegram por si les queréis seguir y en sus redes sociales como acampada UV mientras el mensaje de los estudiantes ha llegado hasta gaza en redes hay ya decenas de vídeos de la población gazatí Agradeciendo las protestas a los estudiantes y pidiendo que no se deje de hablar de Palestina Aquí vamos a seguir hablando de Palestina vamos seguir hablando de Palestina hoy mismo pese al ultimátum de anoche en Columbia de las autoridades universitarias las protestas se mantienen y la crisis escala en el gabinete de Joe biden que dice presionar por un alto el fuego y que ha calificado de extraordinariamente generosa la propuesta de Israel a jamás para lograr un alto el fuego en gaza e insta a los cito literal fundamentalistas palestinos a responder con celeridad así los llamaba el país fundamentalistas palestinas porque mientras tanto mientras contamos todo esto la situación es que el ejército israelí ha concentrado tanques y vehículos blindados en la frontera con gaza para tomar Rafa la invasión que netan yahu lleva preparando y anunciando a bombo y platillo durante semanas y seguimos aquí llevando la de las 34356 personas asesinadas desde 7 de octubre del pasado año las 77,000 heridas las 80.000 aún bajo los escombros recordemos que se cumplen 200 días y una semana del genocidio y que esta semana precisamente hemos conocido la existencia de fosas comunes alrededor del complejo médico de naser con casi 400 cadáveres también sabemos por la honra de la detención de al menos 15506 palestinos y palestinas de la franja de gaza y solo las últimas 24 horas 47 personas han muer no han perdido la vida como decía hoy el país y 61 han resultado heridas no podemos permitirnos no hablar de Palestina así es gracias compañera [Aplausos] Manu levin adelante adelante compañeros titulares al banquillo el análisis mediático de Manu levin universidades en lucha solidaridad con Palestina en Estados Unidos contra el plan motosierra de milei en Argentina decía un titular de Hace unos días en izquierda diario el movimiento estudiantil y universitario ha vuelto a situarse en el centro de la movilización política en diversos lugares y a dar ejemplo de compromiso respecto a algunos de los asuntos más acuciantes del presente en Argentina vimos la semana pasada una marcha Universitaria histórica una de las más grandes tras la dictadura contra los mear recortes de mi ley a la que es una de las universidades públicas más importantes de América Latina y del mundo aquí en España los colectivos de estudiantes vienen siendo una parte fundamental por ejemplo de los movimientos por el derecho a la vivienda y ahora el movimiento estudiantil valenciano como estamos contando ha iniciado una protesta con acampadas para denunciar el genocidio israelí en gaza que veremos si no se extiende a más universidades del Estado está habiendo Eso sí escasa cobertura mediática de esta acampada en Valencia al menos de momento Hay algo en El Salto el diario.es Valencia plaza y aquí en canal red y diario red pero si hay más contenidos quería que nos detuviéramos hoy en esto y sigamos tirando de de la sección inicial sobre lo que está sucediendo en las universidades en Estados Unidos estaba contando zugasti las protestas contra el genocidio que comenzaron en la Universidad de Columbia en Nueva York y que han enfrentado la criminalización por parte de las propias autoridades universitarias además de la represión política y policial se han extendido por todo Estados Unidos y se han convertido en un asunto de primer orden en la política estadounidense verdad y un ejemplo más también de esa represión y de ese clima de miedo y de censura contra Quienes se posicionen en defensa de los Derechos Humanos en Palestina la Universidad del Sur de California Cancela el discurso de graduación de su estudiante con mejores notas por haber colgado en redes un enlace prop Palestina está pasando asna tasum estudiante de ingeniería biomédica fue seleccionada por la Universidad del Sur de California como la mejor estudiante de este año pero el rector de esta universidad un tal Andrew guzmá declaró que después de una cuidado esa consideración hemos decidido que nuestra estudiante con mejores calificaciones no pronunciará un discurso en la graduación aunque esto es decepcionante la tradición debe dar paso a la seguridad el motivo pues enlaces en su Instagram a publicaciones de papeo del movimiento bds por ejemplo dice la pieza que ha publicado sobre esto NPR la página de Instagram de de tasum enlaza con una presentación de diapositivas que dice aprenda lo que está sucediendo en Palestina Y cómo ayudar y critica el sianis smo como una ideología colonial racista que aboga por un etnoestado judío construido en tierra Palestina la presentación de diapositivas pide una solución de un solo estado que significaría la liberación Palestina y La abolición completa del estado de Israel m publicó en instagram una diapositivas alerta antiterrorista que la expulsen de la universidad aunque sea la estudiante con mejores notas No necesitamos estudiantes con buenas notas necesitamos palurdos eso sí Patriotas y sionistas tremendo el nivel de macartismo sionista no en las universidades de del otro jardín el de Allen de los mares Pero bueno después de que en Berlín como decía zugasti hayan montado un psicodrama de un mes y desplegado todo su poder policial y mediático para boicotear una charla sobre Palestina pues ya poca sorpresa verdad pero volvamos a Columbia el epicentro de las protestas universitarias en Estados Unidos porque quiero que veamos algunos ejemplos del discurso mediático dominante sobre estas expresiones de solidaridad con Palestina fijaos por ejemplo Mundo Deportivo Universidad de Columbia policía de Nueva York y sus drásticas medidas en contra de los estudiantes Pro Palestina el texto nunca utiliza la palabra genocidio para calificar aquello contra lo que protestan los estudiantes de Columbia sino que en su lugar dice los ataques a la franja de gaza por parte de Israel los ataques bélicos contra gaza los ataques a Palestina o los ataques armados de Israel y el Eterno comodín las protestas en contra de los ataques armados de Israel también han provocado actos de antisemitismo que han generado ambientes de inseguridad para estudiantes de origen judío quienes han mostrado su preocupación por su integridad actos de antisemitismo que han generado ambientes de inseguridad para estudiantes de origen judío además de tachar de antisemita la solidaridad con Palestina El eterno comodín que decía Esta es una narrativa completamente engañosa sobre la verdadera posición de las comunidades judías en Nueva York que no solo no ven en la denuncia del genocidio en gaza ninguna amenaza contra ellos sino que están precisamente protagonizando ellas mismas movilizaciones sin precedentes contra la masacre de Israel contra el pueblo palestino eso es lo que está pasando y veamos ahora otros ejemplos en la prensa considerada digamos más seria bbc las impactantes imágenes de los enfrentamientos entre estudiantes y policías en las protestas por gaza en las universidades de Estados Unidos y quien dice enfrentamientos No pues dice represión criminalización expulsiones y cientos de detenciones de estudiantes enfrentamientos Irene más fragmentos de la bbc y ahora comentamos todo junto la pieza de forma coherente con el titular retrata a los estudiantes como radicales y violentos y se refiere en estos términos al genocidio en gaza dice las manifestaciones y acalorados debates sobre la guerra de Israel en gaza y la libre expresión han sacudido los Campus de Estados Unidos desde el ataque de jamás en Israel el 7 de octubre que dio inicio a la campaña militar israelí en la franja desde el ataque de jamás en el sur de Israel el 7 de octubre más de 34,000 personas han muerto en la franja dice la bbc la mayoría niños y mujeres a causa de la ofensiva israelí en el territorio palestino de acuerdo con el Ministerio de salud de gaza controlado por jamás Bueno ahora comentamos varias cosas como decía vamos a hacerlo así hoy eh Porque en vez de comentarlo nosotros directamente quiero que leamos lo adelantado al principio un documento muy relevante que incluye los elementos clave de análisis pero antes H más consecuencias que está teniendo la criminalización de esta protesta de nuevo en la bbc tenemos miedo de que Estados Unidos nos deporte por protestar en la universidad contra la guerra en gaza y sigue la ola de protestas por la guerra en gaza se extiende por los Campus de las universidades de Estados Unidos dice la bbc pero Alejandra y Mario alumnos del Universidad de Columbia Nueva York y activistas a favor de la causa Palestina decidieron abandonar las manifestaciones Alejandra y Mario no son sus verdaderos nombres pero para hablar con bbc mundo prefirieron no identificarse por temor a las represalias tiene miedo de que su máximo sueño el de estudiar en una de las mejores universidades del mundo se esfume por estar en una de las manifestaciones Alejandra y Mario nacieron en México pero vivieron casi toda su vida en Estados Unidos los dos provienen de bajos recursos cruzaron la frontera cuando eran niños y desde entonces no pueden salir del país son indocumentados pero pueden hacer una vida casi normal en Estados Unidos eso podría cambiar Si la policía los detiene por protestar casi nada Hace una semana cuando se avivaron las protestas y tras la dura respuesta de la dirección de la universidad para desmovilizar a los activistas dejaron de hacerlo porque tienen miedo de ser arrestados y que eso derive automáticamente en su deportación es demasiado peligroso hasta miedo nos da estar alrededor del campamento aunque queramos apoyarlos es hasta peligroso que nosotros les llevemos comida cobijas un cargador para su teléfono o lo que sea en fin tremendo lo de las universidades del país de la libertad y allí esto se supone que son los progres claro esto son esto son los progres claro y luego que por qué los demócratas van a perder las elecciones verdad en fin y más información sobre la persecución a estas protestas en el ABC empieza de esta misma mañana la universidad de Columbia empieza a suspender a los estudiantes del campamento prop palestino habéis oído bien No solo genocidio en gaza Pero esto Qué es Pero esto Qué es verdad the Land of the free que le llaman no bueno las movilizaciones se han extendido como decíamos a todo el país Universidad de Yale el mit de Boston Universidad de California Michigan Universidad de Massachusets Universidad de Brown Universidad de Texas Universidad de tafts Harvard Emerson College etcétera etcétera y la criminalización mediática de las movilizaciones se ha extendido más todavía incluso fuera de las fronteras de Estados Unidos veíamos antes la bbc Y fijaos de nuevo en la derecha mediática es espñola abc hostilidad en el campus de Estados Unidos el grupo que agita la protesta prop Palestina de nuevo ABC los describe como violentos radicales y antisemitas el periódico que felicitaba el cumpleaños a Hitler Llama antisemitas a estudiantes que defienden los Derechos Humanos a nadie le dice nada Yo creo que sí yo creo que cada vez huela menos el tema pero bueno ahí Siguen con con lo mismo libertad digital las protestas antisemitas arrecian en los campus universitarios estadounidenses esto es 19 38 el antisemitismo crece en las universidades americanas ahora con una campaña de furiosas protestas e intimidaciones a alumnos y personal judío el debate episodios de antisemitismo condenan las manifestaciones prop palestinas de las universidades de Estados Unidos y el otro lado del Charco derecha mediática promile en Argentina la nación la dura advertencia de Greg abot el gobernador de Texas a los universitarios que participaron de las protestas antisemitas en Texas Bueno pues lo de siempre efectivamente antisemitas antisemitas antisemitas Okay quiero Ahora sí que analicemos todo esto un poco en conjunto citando un documento que ha publicado un instituto que lleva el nombre de un conocidísimo antisemita el Instituto lemkin para la prevención del genocidio que es uno de los organismos de vigilancia y denuncia de genocidios más prestigiosos del mundo y que por cierto tiene sede en Estados Unidos el Instituto lenkin toma su nombre de Rafael lenkin que era un jurista judío polaco que consiguió escapar de Polonia en 1939 y pidió asilo en Estados Unidos y ahí fue precisamente académico de una universidad la universidad de Duke sus padres y otros 47 familiares suyos pues no tuvieron la misma suerte y fueron asesinados en ausb y otros campos de Exterminio nazis Rafa lenkin es conocido pu haber sido quien acuñó el término genocidio parair para definir el holocausto y por haber dedicado su vida a conseguir que se estableciera la convención para la prevención y sanción del delito de genocidio que es el tratado internacional que penaliza el genocidio y que obliga a los Estados a respetar y hacer cumplir su prohibición es sin ir má lejos la convención en la que se ha basado Sudáfrica para acusar a Israel de genocidio ante la Corte Internacional de Justicia efectivamente Bueno pues el Instituto que lleva el nombre de este conocido antisemita con 49 familiares asesinados en los campos de Exterminio nazis publicó hace dos semanas un informe demoledor declaración sobre la narrativa de los medios occidentales sobre el genocidio de Israel en gaza que no vamos a citar entero porque es largo pero os recomiendo que lo leáis se encuentra fácil en internet pero sí vamos a leer algunos fragmentos entos que sirven como decía antes para identificar determinadas prácticas mediáticas que veíamos sin ir más lejos en las piezas sobre las protestas en las universidades estadounidenses que que os traía hoy el Instituto lemkin para la prevención del genocidio condena el marco engañoso en la cobertura de los medios occidentales del bombardeo y genocidio del pueblo palestino por parte de Israel así comienza el informe desde el 7 de octubre los principales medios de comunicación han enmarcado la campaña de Israel únicamente como una reacción a los ataques llevados a cabo por jamás sin contextualizar las acciones de Israel dentro de su compleja historia de colonización y ocupación militar así como de la constante y generalizada deshumanización criminalización y desposesión de los palestinos por parte del Estado y la sociedad israelíes el peligro de marcar repetidamente la campaña israelí como una respuesta de legítima autodefensa a los ataques llevados a cabo por jamás el 7 de octubre es doble primero porque sirve para desinformar al lector de que la causa fundamental de la violencia de Israel es jamás y dos porque desvía la atención de las decenas de de miles de víctimas de genocidio en curso si bien los acontecimientos del 7 de octubre no pueden ignorarse a la hora de entender qué ha provocado las acciones de Israel muy rara vez los medios occidentales presentan el bombardeo actual como lo que es el último acontecimiento en décadas de violencia física y estructural contra los palestinos vinculado a un esfuerzo a un esfuerzo mayor reclamar más tierras palestinas para los asentamientos judíos bueno Y ahora os repito algo que os leía antes bbc las manifestaciones y acalorados debates sobre la guerra de Israel en gaza y la libre expresión han sacudido los Campus de Estados Unidos desde el ataque de jamás en Israel el 7 de octubre que dio inicio a la campaña militar israelí en la franja desde el ataque de jamás en el sur de Israel el 7 de octubre más de 34,000 personas han muerto en la franja la mayoría niños y mujeres a causa de la ofensiva israelí en el territorio palestino de acuerdo con el Ministerio de salud de gaza controlado por jamás Bueno un ejemplo bastante evidente de lo que denuncia el comunicado del instituto lemkin el marco que sitúa el 7 de octubre como inicio de todo lo que sucede en Palestina y continúa el Instituto lenkin la narrativa de los medios occidentales ayuda a legitimar la campaña de Israel en gaza enmarcando el genocidio como un conflicto o guerra en el que dos bandos iguales luchan uno con intenciones terroristas y criminales y el otro con El noble objetivo de la autodefensa repito las manifestaciones y acalorados debates sobre la guerra de Israel en gaza decía también la bbc otro elemento que señala el informe del instituto si bien los medios de comunicación occidentales a menudo informan sobre la devastación que están sufriendo los habitantes de gaza la rareza con la que tales informes identifican a Israel como el perpetrador es impactante si bien gran parte de los lectores sabrán que Israel está orquestando estos ataques estos informes de voz pasiva desvían la atención del público de las partes responsables hacia los llamamientos de ayuda y de Caridad a menudo Se informa que los palestinos han muerto o han sido desplazados o sufrían escasez de alimentos y agua y y rar vez Se informa de que Israel los haya matado expulsado por la fuerza o matado de hambre los medios occidentales han tendido a presentar la difícil situación de la ciudadanía Palestina Dentro de este marco sufrimiento pasivo que debe abordarse mediante la provisión de ayuda y asistencia humanitaria con poca mención consistente de lo que los gobiernos pueden o deben hacer para poner fin a su sufrimiento obligando al fin de la campaña de Israel desde el ataque de jamás en el sur de Israel el 7 de octubre repito una vez más a la bbc más de 34 personas han muerto en la franja la mayoría niños y mujeres a causa de la ofensiva israelí en el territorio palestino de acuerdo con el Ministerio de salud de gaza controlado por jamás Bueno lo que denuncia el Instituto lemkin Punto por punto en la cobertura mediática No ya sobre el genocidio sino sobre las movilizaciones estudiantiles en Estados Unidos que denuncian el genocidio hasta en la prensa deportiva se reproducen todos esos Marcos Como hemos visto y no solo son los medios convencionales vamos a acabar con dos titulares más el país la ura en redes de la solidaridad con Palestina Se dispara con la guerra en gaza usuarios y grupos de derechos denuncian restricciones y supresiones desproporcionadas de voces en favor de Palestina mientras el discurso del odio en hebreo se propaga en paralelo y otro titular del país Human Rights watch acusa a meta de censurar contenidos de apoyo a Palestina en Instagram y Facebook la ong estima que la empresa restringe o elimina publicaciones y comentarios de sus redes sociales de manera sistémica y global y pide que revise sus políticas para para ser más transparente y respetar los derechos humanos y la libertad de expresión Bueno pues así están las cosas también en el jardín digital Bueno a nosotras mismas nos ha pasado que al subir vídeos sobre el genocidio a Youtube a veces Pues nos limitan la visibilidad o la monetización porque lo consideran contenido sensible contenido sensible manda narices todo esto es una muestra más de la importancia de seguir movilizándose de seguir denunciando la masacre de Israel en gaza y de apoyar a los medios de comunicación que no estamos dispuestos a reproducir todos esos marcos colaboracionistas con un genocidio contra el pueblo palestino Gracias Man hoy nos acompaña en la base Olga Rodríguez Olga Muchísimas gracias por atendernos una vez más un placer estamos viendo que los Estados Unidos de los estudiantes incluso a los profesores pero también sabemos que de alguna manera los movimientos sociales en Estados Unidos siempre tienen un impacto mediático muy especial en un año como este que es un año electoral en Estados Unidos piensas que puede tener cierto éxito la presión de los estudiantes bueno puede tener un impacto sin duda como lo están teniendo los propios crímenes israelíes sobre territorio palestino con el apoyo dinero y armamento de Estados Unidos no las encuestas ya desde hace varios meses están indicando que hay una parte del electorado votante del partido demócrata que se siente muy decepcionada y en concreto los jóvenes los jóvenes votantes del partido demócrata entre 18 y 34 años Están en contra del apoyo estadounidense a Israel e más del 50% de ellos según diversas encuestas y hemos visto además como por ejemplo un fenómeno muy interesante en las primarias del partido demócrata eh se han registrado votos en lo que se llama el voto no comprometido precis símbolo de esa decepción con las políticas de biden con respecto a Israel y en Estados como Michigan Por ejemplo ese voto ha llegado al 40% lo cual no es nada desdeñable estas protestas como estabais diciendo son inéditas desde 1968 durante las protestas en Estados Unidos en los campos estadounidenses contra la guerra de Vietnam no había habido Nada igual y además en estas por primera vez estamos viendo como algunas de las personas organizadoras y movimientos organizadores eh pertenecen a la comunidad judía estadounidense son protestas muy heterogéneas han sido arrestadas o suspendidas muchísimas personas que que son estudiantes en esas universidades por ejemplo la propia hija de la congresista demócrata ilja nomar hay represión como habéis contado el otro día escuchaba Hablar a un profesor en la universidad de Atlanta que había sido arrestado y que decía literalmente sentí que estaba en una zona de guerra y por ellas vemos como en estas semanas e por los campos universitarios están pasando eh Defensores de los Derechos Humanos eh gente Eh del mundo del derecho internacional intelectuales historiadores israelíes expertos en genocidio etcétera y lo que los estudiantes están diciendo en estas manifestaciones es que no están dispuestos a quedarse en silencio ante semejante impunidad ante el apoyo estadounidense a Israel piden el fin de la masacre en gaza pero también están impulsando campañas contra la inversión en la ocupación israelí y exigiendo el fin de la ocupación israelí hay una frase que que está circulando por varios Campos universitarios que es una frase del historiador estadunidense haars que que dice algo así dirán que estamos perturbando la paz pero es que no hay paz lo que realmente les molesta Es que estemos perturbando la guerra y una idea en torno a todo esto que me preguntas Pablo que que es algo que creo que nos debe preocupar a a todas las personas no de cualquier lugar del mundo que es qué está suponiendo este apoyo a Israel por parte de Estados Unidos y también de potencias europeas es el apoyo a un genocidio que está arrastrando a países occidentales como Alemania como Estados Unidos a adoptar medidas poco acordes con con los estándares democráticos es lo que Naomi Klein por ejemplo ha denominado como la extensión de la idea de la parite israelí la israela vemos que se golpea profesores que se han usado pistolas de electrochoques contra estudiantes que están siendo suspendidos estudiantes en varias universidades ante ello ayer la relatora de Naciones Unidas sobre la libertad de expresión Irene han advertía que la crisis de gaza y Leo literalmente se está convirtiendo realmente en una crisis global de la libertad de expresión que va a tener enormes repercusiones durante mucho tiempo y en este sentido Craig mber alto funcionario de Naciones Unidas que recordaréis que dimitió cuando empezó esta ofensiva contra gaza decía también Ayer Nada capta mejor la corrupción y la decadencia moral de los medios y políticos occidentales que sus constantes esfuerzos por normalizar el genocidio y el aparate mientras intentan patologizar las protestas contra estas atrocidades es como el mundo al revés decía El Cómico egipcio estadounidense bas en yousef que lo habéis puesto algunas de sus intervenciones en vuestro programa decía ayer también dice vaya las cosas se ven muy mal en China Estados Unidos necesita condenar la represión de la libertad de expresión en China esto es terrible y ponía unas imágenes de la represión en los campos universitarios estadounidenses es decir En definitiva para mantener este apoyo ciego a Israel Estados Unidos está teniendo que erosionar su propia democracia es lo que estamos viendo en los campos universitarios y también en algunos países europeos esto es realmente serio hoy son los palestinos mañana podemos ser nosotros hasta dónde nos va a arrastrar este apoyo a la masacre contra gaza por parte de Israel Esa es la gran pregunta que debemos formularnos todos los días sin olvidarnos Hola Olga Buenas tardes un placer tenerte aquí en la base eh habías dicho hace poco en una entrevista que cito literal o Israel siente que el precio de no tener paz Es más alto que el de tenerla o no va a ceder Cuál crees tú que es ese ese precio Esa es una frase que me dijo hace algunos años un judío israelí ramy el hanan cuento su historia en un libro en el hombre mojado no teme la lluvia y recientemente también lo entrevisté él forma parte de una organización de palestinos e israelíes por la paz eh cuando vamos hablamos de precio el precio siempre lo está pagando la población Palestina desde hace décadas no sufriendo la ocupación el aparate que se va sofisticando y desarrollando la limpieza étnica la vida en los territorios ocupados Es realmente muy dura para los palestinos e Israel no paga ningún precio de hecho se beneficia una y otra vez de esa ocupación extiende esa ocupación la opresión el sistema de apar heate y no ha querido ceder vemos como todos los acuerdos de paz que se han barajado a lo largo de las décadas o se han incumplido o han sido profundamente injustos para los palestinos Y ante ellos ha llegado a escenarios como el actual los ataques de jamás del 7 de octubre eran de alguna manera eran evitables es decir en una situación de profunda opresión se crea un contexto en el que se contribuye a aumentar el riesgo de una respuesta con violencia a una ocupación a una opresión a masacres violentas Ah creo que lo he mencionado aquí alguna vez la académica israelí nurit pelet pocos días después de los ataques de jamás del 7 de octubre en un chat privado de profesores universitarios hacía la siguiente reflexión citando a sartre cuando la bota de hierro del opresor Lleva años o décadas aplastando al oprimido si este una mañana tiene la posibilidad de abrir un poquito un ojo Qué mirada esperas ver y añadía ella bueno hemos visto esa mirada no vemos como en los últimos años primero Trump pero luego biden continuó con esa política de impulsar los acuerdos de Abraham Los acuerdos de Abraham suponían la firma de acuerdo entre Estados árabes e Israel y biden siguió con esa política hasta el punto de que estaba impulsando acuerdos entre Arabia saudí e Israel acuerdos en los que siempre se ha se dejaba fuera de la ecuación una y otra vez a la población Palestina como si no existiera como si no hubiera millones de personas palestinas sufriendo una ocupación y una par y esto también ha creado un caldo de cultivo y un contexto muy determinado entonces bueno contestando a tu pregunta el precio en este caso es la presión a Israel y eso tiene que venir de la comunidad internacional occidental que lleva años y décadas permitiendo que la extensión de la ocupación y de la impunidad israelí eh siguiera su curso no tiene que venir de una presión al estilo sudafricano lo que se empleó con la Sudáfrica de la parge eh sanciones suspensión de relaciones hasta que Israel eh cumpla las resoluciones de Naciones Unidas y el derecho internacional y para ello hablar no es suficiente el otro día entrevistaba la poeta y activista Palestina rafid ziad la autora de ese magnífico poema enseñamos vida señor y ella me decía a ver hablar de reconocer el estado palestino puede estar muy bien pero no cambia absolutamente nada en el terreno a día de hoy es insuficiente incluso puede ser una forma de justificar la inacción se necesita mucho más evidentemente sin presión eh a Israel nada va a cambiar Israel no va a ceder Manu Buenas tardes Olga Muchísimas gracias por por estar hoy en la base e bueno en otras ocasiones que que has estado bien con nosotros hemos hablado sobre el papel del periodismo y de bueno de los grandes medios de comunicación en fabricar el consentimiento para este genocidio eh digamos no te quiero volver a formular como la misma pregunta hoy pero sí eh te querría preguntar si piensas que que ese discurso digamos lo están perdiendo si piensas que de alguna manera Bueno pues todos esos Marcos la autodefensa eh la resistencia Palestina como terrorismo etcétera etcétera han ido o no evolucionando hacia bueno y se han ido debilitando Digamos si crees que podemos afirmar eso y Y por qué ha podido suceder eso en caso de que pienses que que sí está sucediendo ese proceso de alguna manera de alguna manera está sucediendo ese proceso porque a pesar de todo a pesar imaginaros simplemente por ejemplo el lobby israelí como ipac y otras organizaciones que destinan millones y millones y millones de dólares a cerrar filas en torno a la defensa de Israel no y a pesar de ello vemos como hay estudiantes que en muchos casos son hijos de la élite estadounidense que pertenecen a a universidades que se llama que pertenecen a la i League a la liga I que son la cren de la cren no y a pesar de todos los esfuerzos para mantener una propaganda israelí se ha roto el Matrix se ha roto Porque primero la envergadura de la masacre y del genocidio y la limpieza étnica en curso es absolutamente abrumadora cualquier ser humano de a al que nada del humano le sea ajeno se siente conmovido y preocupado por ello no y por primera vez vemos que por ejemplo esa herramienta que mencionaba antes no la tergiversación del antisemitismo la instrumentalización del del antisemitismo que es algo muy grave porque el antisemitismo es algo que existe que es real que ocurre en el mundo y tergiversar lo y usarlo de manera falsa contra Defensores de Derechos Humanos contra la propia Corte Internacional de Justicia o contra el tribunal Penal Internacional o contra la relatora de Naciones Unidas es algo gravísimo que afecta los derechos de los palestinos afecta los derechos de todos pero también afecta la lucha Real contra contra el antisemitismo Real no e entonces vemos como ese mattrix de la propaganda israelí de alguna manera sí que se está rasgando a pesar de todos los intentos de todas las tergiversaciones vemos un despertar por primera vez yo llevo 25 años cubriendo este asunto eh he vivido y trabajado en los territorios palestinos en Palestina también en Israel y una y otra vez eh veíamos como este tipo de ataques contra eh las críticas a Israel contra las críticas a los crímenes israelíes se sucedían con mucha eficacia ahora eh Ya se están ridiculizando muchos casos ahora están mucho más detectados mucho más analizados y vemos como tanto en las sociedades europeas como estadounidenses las encuestas una y otra vez señalan que alar que buena parte de los dirigentes buena parte de la gente en las sociedades está absolutamente horrorizada y en contra de la continuación de esta masacre en gafa Rodríguez Muchísimas gracias por atender una vez más a la base hasta pronto un placer Pablo llegamos al final vamos a terminar con un temazo get up Stand up pero en la versión de ojos de brujo mañana nos No mañana no nos vemos que es 1 de Mayo es fiesta nos vemos el jueves hasta el jueves \n"
          ]
        }
      ]
    },
    {
      "cell_type": "markdown",
      "metadata": {
        "id": "ky3Njb3t0riS"
      },
      "source": [
        "# Examples"
      ]
    },
    {
      "cell_type": "markdown",
      "metadata": {
        "id": "D14cShRh4DNl"
      },
      "source": [
        "### Extracting few entities at once\n",
        "\n",
        "This block of text is about possible ways to travel from the airport to the Colosseum.  \n",
        "\n",
        "Let's extract all street names and proposed forms of transportation from it."
      ]
    },
    {
      "cell_type": "code",
      "execution_count": 10,
      "metadata": {
        "id": "Qc0w1Ylb7HQB"
      },
      "outputs": [],
      "source": [
        "direcciones = \"\"\"\n",
        "\n",
        "\"\"\""
      ]
    },
    {
      "cell_type": "code",
      "source": [
        "from google.colab import drive\n",
        "drive.mount('/content/drive')"
      ],
      "metadata": {
        "id": "K8WtH4lt2MMq",
        "outputId": "a2486507-57ec-42e1-82c4-c14b2e0b587c",
        "colab": {
          "base_uri": "https://localhost:8080/"
        }
      },
      "execution_count": 18,
      "outputs": [
        {
          "output_type": "stream",
          "name": "stdout",
          "text": [
            "Mounted at /content/drive\n"
          ]
        }
      ]
    },
    {
      "cell_type": "markdown",
      "metadata": {
        "id": "KelZNWwSytWf"
      },
      "source": [
        "You will use Gemini 2.0 Flash model for fast responses."
      ]
    },
    {
      "cell_type": "code",
      "execution_count": null,
      "metadata": {
        "id": "bxPfNhRi-JsW"
      },
      "outputs": [],
      "source": [
        "from IPython.display import Markdown\n",
        "\n",
        "directions_prompt = f\"\"\"\n",
        "  Del texto dado, extraiga las siguientes entidades y devuelva una lista de cuantas veces aparece cada una.\n",
        "Escribe todas las variantes posibles de las entidades.\n",
        "Agrega el contexto en el que aparece cada una.\n",
        "Analiza y indica si la entidad fue descrita en un texto positivo o negativo.\n",
        "Entidades a extraer: ucrania, rusia, niño, matar, israel, putin, zelenski, genocidio.\n",
        "Texto: {cell_value}\n",
        "ucrania = []\n",
        "rusia = []\n",
        "niño = []\n",
        "matar = []\n",
        "putin = []\n",
        "zelenski  = []\n",
        "genocidio = []\n",
        "\"\"\"\n",
        "\n",
        "response = client.models.generate_content(\n",
        "    model=MODEL_ID,\n",
        "    contents=directions_prompt\n",
        ")\n",
        "\n",
        "Markdown(response.text)"
      ]
    },
    {
      "cell_type": "markdown",
      "metadata": {
        "id": "VYqOM7P76lua"
      },
      "source": [
        "You can modify the form of the answer for your extracted entities even more:"
      ]
    },
    {
      "cell_type": "code",
      "execution_count": null,
      "metadata": {
        "id": "DZdGgTsN5s6z",
        "outputId": "c78cfe80-8356-4d61-f3b1-02b7ec243a67"
      },
      "outputs": [
        {
          "data": {
            "text/markdown": "Here's the extracted information:\n\nStreet = ['Via dei Fori Imperiali', 'Via del Corso', 'Via dei Fori Imperiali', 'Via della Lungara']\nTransport = ['train', 'metro', 'bus', 'shuttle', 'taxi', 'transfer service']\n",
            "text/plain": [
              "<IPython.core.display.Markdown object>"
            ]
          },
          "execution_count": 7,
          "metadata": {},
          "output_type": "execute_result"
        }
      ],
      "source": [
        "directions_list_prompt = f\"\"\"\n",
        "  From the given text, extract the following entities and\n",
        "  return a list of them.\n",
        "  Entities to extract: street name, form of transport.\n",
        "  Text: {directions}\n",
        "  Return your answer as two lists:\n",
        "  Street = [street names]\n",
        "  Transport = [forms of transport]\n",
        "\"\"\"\n",
        "\n",
        "response = client.models.generate_content(\n",
        "    model=MODEL_ID,\n",
        "    contents=directions_list_prompt\n",
        ")\n",
        "\n",
        "Markdown(response.text)"
      ]
    },
    {
      "cell_type": "markdown",
      "metadata": {
        "id": "4d7Om_vjuffj"
      },
      "source": [
        "### Numbers\n",
        "\n",
        "Try entity extraction of phone numbers"
      ]
    },
    {
      "cell_type": "code",
      "execution_count": null,
      "metadata": {
        "id": "tkAi37jQoJFs"
      },
      "outputs": [],
      "source": [
        "customer_service_email = \"\"\"\n",
        "  Hello,\n",
        "  Thank you for reaching out to our customer support team regarding your\n",
        "  recent purchase of our premium subscription service.\n",
        "  Your activation code has been sent to +87 668 098 344\n",
        "  Additionally, if you require immediate assistance, feel free to contact us\n",
        "  directly at +1 (800) 555-1234.\n",
        "  Our team is available Monday through Friday from 9:00 AM to 5:00 PM PST.\n",
        "  For after-hours support, please call our\n",
        "  dedicated emergency line at +87 455 555 678.\n",
        "  Thanks for your business and look forward to resolving any issues\n",
        "  you may encounter promptly.\n",
        "  Thank you.\n",
        "\"\"\""
      ]
    },
    {
      "cell_type": "code",
      "execution_count": null,
      "metadata": {
        "id": "J_cHeX-wwmeN",
        "outputId": "49cb96b2-c911-4917-d72f-ec59fe4d9760"
      },
      "outputs": [
        {
          "data": {
            "text/markdown": "```json\n[\n  \"+87 668 098 344\",\n  \"+1 (800) 555-1234\",\n  \"+87 455 555 678\"\n]\n```",
            "text/plain": [
              "<IPython.core.display.Markdown object>"
            ]
          },
          "execution_count": 9,
          "metadata": {},
          "output_type": "execute_result"
        }
      ],
      "source": [
        "phone_prompt = f\"\"\"\n",
        "  From the given text, extract the following entities and return a list of them.\n",
        "  Entities to extract: phone numbers.\n",
        "  Text: {customer_service_email}\n",
        "  Return your answer in a list:\n",
        "\"\"\"\n",
        "\n",
        "response = client.models.generate_content(\n",
        "    model=MODEL_ID,\n",
        "    contents=phone_prompt\n",
        ")\n",
        "\n",
        "Markdown(response.text)"
      ]
    },
    {
      "cell_type": "markdown",
      "metadata": {
        "id": "o_tNxJhQur-x"
      },
      "source": [
        "### URLs\n",
        "\n",
        "\n",
        "Try entity extraction of URLs and get response as a clickable link."
      ]
    },
    {
      "cell_type": "code",
      "execution_count": null,
      "metadata": {
        "id": "J1Ufx9qkxPfJ"
      },
      "outputs": [],
      "source": [
        "url_text = \"\"\"\n",
        "  Gemini API billing FAQs\n",
        "\n",
        "  This page provides answers to frequently asked questions about billing\n",
        "  for the Gemini API. For pricing information, see the pricing page\n",
        "  https://ai.google.dev/pricing.\n",
        "  For legal terms, see the terms of service\n",
        "  https://ai.google.dev/gemini-api/terms#paid-services.\n",
        "\n",
        "  What am I billed for?\n",
        "  Gemini API pricing is based on total token count, with different prices\n",
        "  for input tokens and output tokens. For pricing information,\n",
        "  see the pricing page https://ai.google.dev/pricing.\n",
        "\n",
        "  Where can I view my quota?\n",
        "  You can view your quota and system limits in the Google Cloud console\n",
        "  https://console.cloud.google.com/apis/api/generativelanguage.googleapis.com/quotas.\n",
        "\n",
        "  Is GetTokens billed?\n",
        "  Requests to the GetTokens API are not billed,\n",
        "  and they don't count against inference quota.\n",
        "\"\"\""
      ]
    },
    {
      "cell_type": "code",
      "execution_count": null,
      "metadata": {
        "id": "eaFWpN1IyOLW",
        "outputId": "108ae9a0-9eea-4263-f50f-a15fddd093f5"
      },
      "outputs": [
        {
          "data": {
            "text/markdown": "```\n- https://ai.google.dev/pricing\n- https://ai.google.dev/gemini-api/terms#paid-services\n- https://console.cloud.google.com/apis/api/generativelanguage.googleapis.com/quotas\n```",
            "text/plain": [
              "<IPython.core.display.Markdown object>"
            ]
          },
          "execution_count": 11,
          "metadata": {},
          "output_type": "execute_result"
        }
      ],
      "source": [
        "url_prompt = f\"\"\"\n",
        "  From the given text, extract the following entities and return a list of them.\n",
        "  Entities to extract: URLs.\n",
        "  Text: {url_text}\n",
        "  Do not duplicate entities.\n",
        "  Return your answer in a markdown format:\n",
        "\"\"\"\n",
        "\n",
        "response = client.models.generate_content(\n",
        "    model=MODEL_ID,\n",
        "    contents=url_prompt\n",
        ")\n",
        "\n",
        "Markdown(response.text)"
      ]
    }
  ],
  "metadata": {
    "colab": {
      "name": "Entity_Extraction.ipynb",
      "provenance": []
    },
    "kernelspec": {
      "display_name": "Python 3",
      "name": "python3"
    }
  },
  "nbformat": 4,
  "nbformat_minor": 0
}